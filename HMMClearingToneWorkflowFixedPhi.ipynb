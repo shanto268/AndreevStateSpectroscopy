{
 "cells": [
  {
   "cell_type": "markdown",
   "metadata": {},
   "source": [
    "# Andreev State Spectroscopy at Fixed Phi\n",
    "\n",
    "Our dataset was acquired at a fixed reodout resonator drive frequency and power with the device being biased at a fixed voltage.\n",
    "\n",
    "We varied the clearing tone frequency and power and recorded the resonator response with the VNA and also the IQ time traces with the digitizer.\n",
    "\n",
    "Interleaved with these datasets are also IQ traces with the clearing tone turned off to serve as a reference."
   ]
  },
  {
   "cell_type": "markdown",
   "metadata": {},
   "source": [
    "## Data Filtering\n",
    "\n",
    "We will use the VNA data to discard the datasets where the clearing tone messes with the resonator response."
   ]
  },
  {
   "cell_type": "code",
   "execution_count": null,
   "metadata": {},
   "outputs": [],
   "source": []
  },
  {
   "cell_type": "markdown",
   "metadata": {},
   "source": [
    "## Reference Data Processing\n",
    "\n",
    "We will look at the reference datasets (i.e. no clearing tone) to inspect:\n",
    "\n",
    "1) if the IQ distribution looks the same for all of them (it should)\n",
    "2) fit one of them with HMM and record\n",
    "\n",
    "    a) the trained model\n",
    "    b) state probabilities and transitions\n",
    "    c) occupation timeseries\n",
    "    d) quotable metrics\n",
    "\n",
    "3) Zip the datafiles in-place."
   ]
  },
  {
   "cell_type": "code",
   "execution_count": null,
   "metadata": {},
   "outputs": [],
   "source": []
  },
  {
   "cell_type": "markdown",
   "metadata": {},
   "source": [
    "## Clearing Tone Data Processing\n",
    "\n",
    "This is what we want to do. For each clearing tone frequency, we want to:\n",
    "\n",
    "- load the varied power datasets\n",
    "- read the dataset at the lowest power and input the means and covars for the HMM\n",
    "- run the HMM on the above dataset\n",
    "- bootstrap the HMM on to higher power datasets making sure to:\n",
    "    a) save the trained model\n",
    "    b) save the state probabilities and transitions\n",
    "    c) save the occupation timeseries\n",
    "    d) save the quotable metrics\n",
    "- Zip the datafiles (only) in-place.\n",
    "\n",
    "**Need to run this concurrently/simultaneously for all frequencies.**"
   ]
  },
  {
   "cell_type": "code",
   "execution_count": 7,
   "metadata": {},
   "outputs": [
    {
     "data": {
      "text/plain": [
       "10.0"
      ]
     },
     "execution_count": 7,
     "metadata": {},
     "output_type": "execute_result"
    }
   ],
   "source": [
    "test = \"no_clearing_REF_for_10p00GHz\"\n",
    "frequency = float((test.split(\"for_\")[1].split(\"GHz\")[0]).replace(\"p\", \".\"))\n",
    "frequency "
   ]
  },
  {
   "cell_type": "markdown",
   "metadata": {},
   "source": [
    "# Figures of Merit:\n",
    "\n",
    "1. Mean occupation as a function of clearing tone frequency and power\n",
    "2. Release rates as a function of clearing tone frequency and power\n",
    "3. 3 axis plot - Mean occupation, release rates, fitted release rates as a function of clearing tone power for all frequencies\n",
    "4. Expected ABS state energy distribution\n",
    "5. Extracted ABS state energy distribution"
   ]
  },
  {
   "cell_type": "code",
   "execution_count": null,
   "metadata": {},
   "outputs": [],
   "source": []
  }
 ],
 "metadata": {
  "kernelspec": {
   "display_name": "Python 3",
   "language": "python",
   "name": "python3"
  },
  "language_info": {
   "codemirror_mode": {
    "name": "ipython",
    "version": 3
   },
   "file_extension": ".py",
   "mimetype": "text/x-python",
   "name": "python",
   "nbconvert_exporter": "python",
   "pygments_lexer": "ipython3",
   "version": "3.9.12"
  }
 },
 "nbformat": 4,
 "nbformat_minor": 2
}
