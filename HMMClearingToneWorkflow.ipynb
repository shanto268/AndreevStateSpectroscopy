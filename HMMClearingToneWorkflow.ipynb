{
  "cells": [
    {
      "cell_type": "markdown",
      "metadata": {},
      "source": [
        "# HMM Analysis for Andreev State Spectroscopy with Clearing Tones\n",
        "\n",
        "This notebook provides functionality for analyzing Andreev state spectroscopy data\n",
        "using Hidden Markov Models (HMM) with clearing tones."
      ]
    },
    {
      "cell_type": "code",
      "execution_count": null,
      "metadata": {},
      "outputs": [],
      "source": [
        "%load_ext autoreload\n",
        "%autoreload 2"
      ]
    },
    {
      "cell_type": "code",
      "execution_count": null,
      "metadata": {},
      "outputs": [],
      "source": [
        "import quasiparticleFunctions as qp\n",
        "from hmm_utils import (create_physics_based_transition_matrix,\n",
        "                          get_means_covars)\n",
        "from hmm_analysis_with_clearing import HMMAnalyzerWithClearing\n",
        "from hmm_workflows_with_clearing import *\n",
        "import numpy as np\n",
        "import matplotlib.pyplot as plt\n",
        "import os\n",
        "import pickle\n",
        "import pandas as pd\n",
        "import seaborn as sns"
      ]
    },
    {
      "cell_type": "markdown",
      "metadata": {},
      "source": [
        "## Single Power at Fixed Flux Workflow with Clearing Tone"
      ]
    },
    {
      "cell_type": "code",
      "execution_count": null,
      "metadata": {},
      "outputs": [],
      "source": [
        "# Initialize analyzer\n",
        "data_dir = \"/path/to/your/data/\"\n",
        "analyzer = HMMAnalyzerWithClearing(data_dir, num_modes=2)"
      ]
    },
    {
      "cell_type": "code",
      "execution_count": null,
      "metadata": {},
      "outputs": [],
      "source": [
        "# Load data files\n",
        "analyzer.load_data_files(\"phi_0p450\")"
      ]
    },
    {
      "cell_type": "code",
      "execution_count": null,
      "metadata": {},
      "outputs": [],
      "source": [
        "# Process data for specific parameters\n",
        "atten = 26\n",
        "clearing_freq = 5.0  # GHz\n",
        "clearing_power = -10.0  # dBm\n",
        "analyzer.load_and_process_data(atten=atten, clearing_freq=clearing_freq, clearing_power=clearing_power)"
      ]
    },
    {
      "cell_type": "code",
      "execution_count": null,
      "metadata": {},
      "outputs": [],
      "source": [
        "# Get initial parameters\n",
        "result = get_means_covars(analyzer.data, analyzer.num_modes)\n",
        "means_guess = result['means']\n",
        "covars_guess = result['covariances']"
      ]
    },
    {
      "cell_type": "code",
      "execution_count": null,
      "metadata": {},
      "outputs": [],
      "source": [
        "# Initialize and fit model\n",
        "analyzer.initialize_model(means_guess, covars_guess)\n",
        "analyzer.fit_model()"
      ]
    },
    {
      "cell_type": "code",
      "execution_count": null,
      "metadata": {},
      "outputs": [],
      "source": [
        "# Decode states and calculate probabilities\n",
        "logprob, states = analyzer.decode_states()\n",
        "mean_occ, probs = analyzer.calculate_occupation_probabilities(states)\n",
        "print(f\"Mean occupation: {mean_occ}\")\n",
        "print(f\"Probabilities: {probs}\")"
      ]
    },
    {
      "cell_type": "code",
      "execution_count": null,
      "metadata": {},
      "outputs": [],
      "source": [
        "# Calculate SNRs\n",
        "snrs = analyzer.calculate_snrs()\n",
        "print(\"SNRs:\", snrs)"
      ]
    },
    {
      "cell_type": "code",
      "execution_count": null,
      "metadata": {},
      "outputs": [],
      "source": [
        "# Save all results and plots\n",
        "analyzer.save_analysis_results(states, atten, means_guess, covars_guess)"
      ]
    },
    {
      "cell_type": "markdown",
      "metadata": {},
      "source": [
        "## Variable Power at Fixed Flux (Bootstrapping) Workflow with Clearing Tone"
      ]
    },
    {
      "cell_type": "code",
      "execution_count": null,
      "metadata": {},
      "outputs": [],
      "source": [
        "# Run bootstrapping analysis with clearing tone parameters\n",
        "bootstrapping_analysis_with_clearing(\n",
        "    analyzer,\n",
        "    \"phi_0p450\",\n",
        "    non_linear_atten=26,\n",
        "    clearing_freq=5.0,\n",
        "    clearing_power=-10.0,\n",
        "    snr_threshold=1.5\n",
        ")"
      ]
    },
    {
      "cell_type": "markdown",
      "metadata": {},
      "source": [
        "## Variable Power and Flux (Bootstrapping) Workflow with Clearing Tone"
      ]
    },
    {
      "cell_type": "code",
      "execution_count": null,
      "metadata": {},
      "outputs": [],
      "source": [
        "# Run flux sweep analysis with clearing tone parameters\n",
        "analyze_flux_sweep_with_clearing(\n",
        "    data_dir,\n",
        "    num_modes=2,\n",
        "    non_linear_atten=26,\n",
        "    clearing_freq=5.0,\n",
        "    clearing_power=-10.0,\n",
        "    snr_threshold=1.5\n",
        ")"
      ]
    }
  ],
  "metadata": {
    "kernelspec": {
      "display_name": "Python 3",
      "language": "python",
      "name": "python3"
    },
    "language_info": {
      "codemirror_mode": {
        "name": "ipython",
        "version": 3
      },
      "file_extension": ".py",
      "mimetype": "text/x-python",
      "name": "python",
      "nbconvert_exporter": "python",
      "pygments_lexer": "ipython3",
      "version": "3.8.0"
    }
  },
  "nbformat": 4,
  "nbformat_minor": 4
}
